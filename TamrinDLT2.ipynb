{
  "nbformat": 4,
  "nbformat_minor": 0,
  "metadata": {
    "colab": {
      "provenance": [],
      "gpuType": "T4"
    },
    "kernelspec": {
      "name": "python3",
      "display_name": "Python 3"
    },
    "language_info": {
      "name": "python"
    },
    "accelerator": "GPU"
  },
  "cells": [
    {
      "cell_type": "code",
      "execution_count": null,
      "metadata": {
        "id": "Q2-hw8SilVzR"
      },
      "outputs": [],
      "source": []
    },
    {
      "cell_type": "code",
      "source": [
        "import numpy as np\n",
        "true_b = 1\n",
        "true_w = 2\n",
        "N =200\n",
        "np.random.seed(42)\n",
        "x = np.random.randn(N,1)\n",
        "e = np.random.randn(N,1) * .2\n",
        "y = true_b + true_w * x + e\n",
        "y.shape"
      ],
      "metadata": {
        "colab": {
          "base_uri": "https://localhost:8080/"
        },
        "id": "DbNHFWGvsHsi",
        "outputId": "bf37f145-e3fc-4135-bba3-7a5c79d9149f"
      },
      "execution_count": 1,
      "outputs": [
        {
          "output_type": "execute_result",
          "data": {
            "text/plain": [
              "(200, 1)"
            ]
          },
          "metadata": {},
          "execution_count": 1
        }
      ]
    },
    {
      "cell_type": "code",
      "source": [
        "import torch"
      ],
      "metadata": {
        "id": "xKUzMgEFtG4_"
      },
      "execution_count": 2,
      "outputs": []
    },
    {
      "cell_type": "code",
      "source": [
        "device = 'cuda' if torch.cuda.is_available() else 'cpu'"
      ],
      "metadata": {
        "id": "qW7oVP8DsyS9"
      },
      "execution_count": 3,
      "outputs": []
    },
    {
      "cell_type": "code",
      "source": [
        "x_tensor = torch.tensor(x,dtype = torch.float32, device = device)\n",
        "y_tensor = torch.tensor(y, dtype =torch.float32, device = device )"
      ],
      "metadata": {
        "id": "-aUam3OStOlC"
      },
      "execution_count": 4,
      "outputs": []
    },
    {
      "cell_type": "code",
      "source": [
        "x_tensor.device"
      ],
      "metadata": {
        "colab": {
          "base_uri": "https://localhost:8080/"
        },
        "id": "nPwo-sohtt0k",
        "outputId": "ed70bd71-7445-4209-da8b-933643d92866"
      },
      "execution_count": 5,
      "outputs": [
        {
          "output_type": "execute_result",
          "data": {
            "text/plain": [
              "device(type='cuda', index=0)"
            ]
          },
          "metadata": {},
          "execution_count": 5
        }
      ]
    },
    {
      "cell_type": "code",
      "source": [
        "torch.manual_seed(42)\n",
        "b = torch.randn(1, requires_grad  = True, device = device)\n",
        "w = torch.randn(1, requires_grad = True,  device = device)\n",
        "b,w"
      ],
      "metadata": {
        "colab": {
          "base_uri": "https://localhost:8080/"
        },
        "id": "vU98TRSHt0fc",
        "outputId": "b42c31f2-1cd2-48eb-8dc5-4670d6e7e7e2"
      },
      "execution_count": 6,
      "outputs": [
        {
          "output_type": "execute_result",
          "data": {
            "text/plain": [
              "(tensor([0.1940], device='cuda:0', requires_grad=True),\n",
              " tensor([0.1391], device='cuda:0', requires_grad=True))"
            ]
          },
          "metadata": {},
          "execution_count": 6
        }
      ]
    },
    {
      "cell_type": "code",
      "source": [
        "y_pred = b + w * x_tensor"
      ],
      "metadata": {
        "id": "mGEwLBAIuGjU"
      },
      "execution_count": 7,
      "outputs": []
    },
    {
      "cell_type": "code",
      "source": [
        "y_pred"
      ],
      "metadata": {
        "id": "Es26mM8DwHRI",
        "colab": {
          "base_uri": "https://localhost:8080/"
        },
        "outputId": "735fc2aa-ac66-4f20-c17d-0e2a296a8c55"
      },
      "execution_count": 8,
      "outputs": [
        {
          "output_type": "execute_result",
          "data": {
            "text/plain": [
              "tensor([[ 0.2631],\n",
              "        [ 0.1748],\n",
              "        [ 0.2841],\n",
              "        [ 0.4059],\n",
              "        [ 0.1614],\n",
              "        [ 0.1614],\n",
              "        [ 0.4137],\n",
              "        [ 0.3008],\n",
              "        [ 0.1287],\n",
              "        [ 0.2695],\n",
              "        [ 0.1295],\n",
              "        [ 0.1292],\n",
              "        [ 0.2277],\n",
              "        [-0.0722],\n",
              "        [-0.0460],\n",
              "        [ 0.1158],\n",
              "        [ 0.0531],\n",
              "        [ 0.2377],\n",
              "        [ 0.0677],\n",
              "        [-0.0025],\n",
              "        [ 0.3979],\n",
              "        [ 0.1626],\n",
              "        [ 0.2034],\n",
              "        [-0.0042],\n",
              "        [ 0.1183],\n",
              "        [ 0.2095],\n",
              "        [ 0.0339],\n",
              "        [ 0.2463],\n",
              "        [ 0.1104],\n",
              "        [ 0.1534],\n",
              "        [ 0.1103],\n",
              "        [ 0.4517],\n",
              "        [ 0.1921],\n",
              "        [ 0.0469],\n",
              "        [ 0.3085],\n",
              "        [ 0.0242],\n",
              "        [ 0.2231],\n",
              "        [-0.0786],\n",
              "        [ 0.0092],\n",
              "        [ 0.2214],\n",
              "        [ 0.2968],\n",
              "        [ 0.2179],\n",
              "        [ 0.1779],\n",
              "        [ 0.1521],\n",
              "        [-0.0117],\n",
              "        [ 0.0939],\n",
              "        [ 0.1299],\n",
              "        [ 0.3411],\n",
              "        [ 0.2418],\n",
              "        [-0.0513],\n",
              "        [ 0.2391],\n",
              "        [ 0.1404],\n",
              "        [ 0.0998],\n",
              "        [ 0.2791],\n",
              "        [ 0.3375],\n",
              "        [ 0.3236],\n",
              "        [ 0.0773],\n",
              "        [ 0.1510],\n",
              "        [ 0.2401],\n",
              "        [ 0.3298],\n",
              "        [ 0.1273],\n",
              "        [ 0.1682],\n",
              "        [ 0.0401],\n",
              "        [ 0.0276],\n",
              "        [ 0.3071],\n",
              "        [ 0.3827],\n",
              "        [ 0.1840],\n",
              "        [ 0.3336],\n",
              "        [ 0.2443],\n",
              "        [ 0.1043],\n",
              "        [ 0.2443],\n",
              "        [ 0.4080],\n",
              "        [ 0.1890],\n",
              "        [ 0.4117],\n",
              "        [-0.1705],\n",
              "        [ 0.3084],\n",
              "        [ 0.2061],\n",
              "        [ 0.1524],\n",
              "        [ 0.2068],\n",
              "        [-0.0825],\n",
              "        [ 0.1635],\n",
              "        [ 0.2437],\n",
              "        [ 0.3996],\n",
              "        [ 0.1219],\n",
              "        [ 0.0815],\n",
              "        [ 0.1242],\n",
              "        [ 0.3214],\n",
              "        [ 0.2398],\n",
              "        [ 0.1203],\n",
              "        [ 0.2654],\n",
              "        [ 0.2075],\n",
              "        [ 0.3288],\n",
              "        [ 0.0963],\n",
              "        [ 0.1484],\n",
              "        [ 0.1395],\n",
              "        [-0.0096],\n",
              "        [ 0.2352],\n",
              "        [ 0.2303],\n",
              "        [ 0.1947],\n",
              "        [ 0.1614],\n",
              "        [-0.0029],\n",
              "        [ 0.1355],\n",
              "        [ 0.1463],\n",
              "        [ 0.0824],\n",
              "        [ 0.1716],\n",
              "        [ 0.2502],\n",
              "        [ 0.4565],\n",
              "        [ 0.2183],\n",
              "        [ 0.2299],\n",
              "        [ 0.1837],\n",
              "        [-0.0730],\n",
              "        [ 0.1903],\n",
              "        [ 0.2024],\n",
              "        [ 0.5367],\n",
              "        [ 0.1673],\n",
              "        [ 0.2360],\n",
              "        [ 0.1892],\n",
              "        [ 0.0314],\n",
              "        [ 0.3530],\n",
              "        [ 0.2986],\n",
              "        [ 0.3041],\n",
              "        [ 0.0675],\n",
              "        [ 0.3892],\n",
              "        [-0.0010],\n",
              "        [ 0.2757],\n",
              "        [ 0.4988],\n",
              "        [ 0.0562],\n",
              "        [ 0.1152],\n",
              "        [ 0.2079],\n",
              "        [ 0.1240],\n",
              "        [-0.0217],\n",
              "        [ 0.2036],\n",
              "        [ 0.0462],\n",
              "        [ 0.2599],\n",
              "        [ 0.0661],\n",
              "        [ 0.4097],\n",
              "        [ 0.0850],\n",
              "        [ 0.1492],\n",
              "        [ 0.3072],\n",
              "        [ 0.0228],\n",
              "        [ 0.2257],\n",
              "        [ 0.3759],\n",
              "        [-0.0296],\n",
              "        [ 0.2197],\n",
              "        [ 0.2302],\n",
              "        [ 0.3028],\n",
              "        [ 0.0219],\n",
              "        [ 0.0103],\n",
              "        [ 0.2666],\n",
              "        [ 0.2353],\n",
              "        [ 0.2289],\n",
              "        [ 0.2422],\n",
              "        [ 0.0994],\n",
              "        [ 0.2263],\n",
              "        [ 0.2348],\n",
              "        [ 0.0946],\n",
              "        [ 0.4536],\n",
              "        [ 0.2599],\n",
              "        [ 0.0283],\n",
              "        [ 0.2854],\n",
              "        [ 0.0584],\n",
              "        [ 0.3035],\n",
              "        [ 0.3552],\n",
              "        [ 0.0798],\n",
              "        [ 0.3281],\n",
              "        [ 0.2515],\n",
              "        [ 0.3084],\n",
              "        [ 0.4579],\n",
              "        [ 0.1599],\n",
              "        [ 0.0891],\n",
              "        [ 0.0703],\n",
              "        [ 0.0805],\n",
              "        [ 0.1833],\n",
              "        [ 0.2415],\n",
              "        [ 0.2325],\n",
              "        [ 0.3091],\n",
              "        [ 0.1958],\n",
              "        [ 0.3963],\n",
              "        [ 0.1572],\n",
              "        [ 0.5725],\n",
              "        [ 0.2811],\n",
              "        [ 0.0748],\n",
              "        [ 0.0450],\n",
              "        [ 0.2611],\n",
              "        [ 0.1629],\n",
              "        [ 0.2934],\n",
              "        [ 0.2599],\n",
              "        [ 0.1839],\n",
              "        [ 0.0762],\n",
              "        [-0.0168],\n",
              "        [ 0.1319],\n",
              "        [ 0.3132],\n",
              "        [ 0.2238],\n",
              "        [ 0.0207],\n",
              "        [ 0.2181],\n",
              "        [ 0.2476],\n",
              "        [ 0.0710],\n",
              "        [ 0.2154],\n",
              "        [ 0.2021],\n",
              "        [ 0.0350]], device='cuda:0', grad_fn=<AddBackward0>)"
            ]
          },
          "metadata": {},
          "execution_count": 8
        }
      ]
    },
    {
      "cell_type": "code",
      "source": [
        "y_pred.requires_grad"
      ],
      "metadata": {
        "colab": {
          "base_uri": "https://localhost:8080/"
        },
        "id": "9lAFQwDSwLxL",
        "outputId": "2059eeab-0f25-4d0a-bc60-d08095f8118e"
      },
      "execution_count": 9,
      "outputs": [
        {
          "output_type": "execute_result",
          "data": {
            "text/plain": [
              "True"
            ]
          },
          "metadata": {},
          "execution_count": 9
        }
      ]
    },
    {
      "cell_type": "code",
      "source": [
        "torch.manual_seed(42)\n",
        "b = torch.randn(1,requires_grad=True,device = device)\n",
        "w = torch.randn(1,requires_grad=True,device = device)\n",
        "b,w"
      ],
      "metadata": {
        "colab": {
          "base_uri": "https://localhost:8080/"
        },
        "id": "ImRVRI_FwSjj",
        "outputId": "705a18e5-7f81-4304-fac1-e7ac4688e39e"
      },
      "execution_count": 10,
      "outputs": [
        {
          "output_type": "execute_result",
          "data": {
            "text/plain": [
              "(tensor([0.1940], device='cuda:0', requires_grad=True),\n",
              " tensor([0.1391], device='cuda:0', requires_grad=True))"
            ]
          },
          "metadata": {},
          "execution_count": 10
        }
      ]
    },
    {
      "cell_type": "code",
      "source": [
        "losses = []\n",
        "epoch = 50\n",
        "lr = .5\n",
        "y_pred = b + w * x_tensor\n",
        "error = y_pred - y_tensor\n",
        "loss = .5 * (error**2).mean()\n",
        "loss.backward()\n",
        "with torch.no_grad():\n",
        "  w -= lr * w.grad\n",
        "  b -= lr * b.grad\n",
        "w.grad.zero_()\n",
        "b.grad.zero_()\n"
      ],
      "metadata": {
        "colab": {
          "base_uri": "https://localhost:8080/"
        },
        "id": "pcjRVTjYxPkj",
        "outputId": "3dc5c511-c9b4-4c52-e5d1-0e1fe695000a"
      },
      "execution_count": 11,
      "outputs": [
        {
          "output_type": "execute_result",
          "data": {
            "text/plain": [
              "tensor([0.], device='cuda:0')"
            ]
          },
          "metadata": {},
          "execution_count": 11
        }
      ]
    },
    {
      "cell_type": "code",
      "source": [
        "!pip install torchviz"
      ],
      "metadata": {
        "colab": {
          "base_uri": "https://localhost:8080/"
        },
        "id": "rvYH-A1o0Cp_",
        "outputId": "a9f0cf86-654d-4f4f-9ed0-3d420f1ffcde"
      },
      "execution_count": 12,
      "outputs": [
        {
          "output_type": "stream",
          "name": "stdout",
          "text": [
            "Collecting torchviz\n",
            "  Downloading torchviz-0.0.2.tar.gz (4.9 kB)\n",
            "  Preparing metadata (setup.py) ... \u001b[?25l\u001b[?25hdone\n",
            "Requirement already satisfied: torch in /usr/local/lib/python3.10/dist-packages (from torchviz) (2.4.1+cu121)\n",
            "Requirement already satisfied: graphviz in /usr/local/lib/python3.10/dist-packages (from torchviz) (0.20.3)\n",
            "Requirement already satisfied: filelock in /usr/local/lib/python3.10/dist-packages (from torch->torchviz) (3.16.1)\n",
            "Requirement already satisfied: typing-extensions>=4.8.0 in /usr/local/lib/python3.10/dist-packages (from torch->torchviz) (4.12.2)\n",
            "Requirement already satisfied: sympy in /usr/local/lib/python3.10/dist-packages (from torch->torchviz) (1.13.3)\n",
            "Requirement already satisfied: networkx in /usr/local/lib/python3.10/dist-packages (from torch->torchviz) (3.3)\n",
            "Requirement already satisfied: jinja2 in /usr/local/lib/python3.10/dist-packages (from torch->torchviz) (3.1.4)\n",
            "Requirement already satisfied: fsspec in /usr/local/lib/python3.10/dist-packages (from torch->torchviz) (2024.6.1)\n",
            "Requirement already satisfied: MarkupSafe>=2.0 in /usr/local/lib/python3.10/dist-packages (from jinja2->torch->torchviz) (2.1.5)\n",
            "Requirement already satisfied: mpmath<1.4,>=1.1.0 in /usr/local/lib/python3.10/dist-packages (from sympy->torch->torchviz) (1.3.0)\n",
            "Building wheels for collected packages: torchviz\n",
            "  Building wheel for torchviz (setup.py) ... \u001b[?25l\u001b[?25hdone\n",
            "  Created wheel for torchviz: filename=torchviz-0.0.2-py3-none-any.whl size=4132 sha256=b611c29382c85546b4b20917ea62e4924689a549cea5da71cbbe7b89e07acc03\n",
            "  Stored in directory: /root/.cache/pip/wheels/4c/97/88/a02973217949e0db0c9f4346d154085f4725f99c4f15a87094\n",
            "Successfully built torchviz\n",
            "Installing collected packages: torchviz\n",
            "Successfully installed torchviz-0.0.2\n"
          ]
        }
      ]
    },
    {
      "cell_type": "code",
      "source": [
        "from torchviz import make_dot"
      ],
      "metadata": {
        "id": "jdug9sl60Jpq"
      },
      "execution_count": 13,
      "outputs": []
    },
    {
      "cell_type": "code",
      "source": [
        "make_dot(loss)"
      ],
      "metadata": {
        "colab": {
          "base_uri": "https://localhost:8080/",
          "height": 692
        },
        "id": "1NZ_VTbD0NvJ",
        "outputId": "a28c7c58-e598-4bf5-d1b2-b00cc712ca14"
      },
      "execution_count": 14,
      "outputs": [
        {
          "output_type": "execute_result",
          "data": {
            "image/svg+xml": "<?xml version=\"1.0\" encoding=\"UTF-8\" standalone=\"no\"?>\n<!DOCTYPE svg PUBLIC \"-//W3C//DTD SVG 1.1//EN\"\n \"http://www.w3.org/Graphics/SVG/1.1/DTD/svg11.dtd\">\n<!-- Generated by graphviz version 2.43.0 (0)\n -->\n<!-- Title: %3 Pages: 1 -->\n<svg width=\"222pt\" height=\"503pt\"\n viewBox=\"0.00 0.00 222.00 503.00\" xmlns=\"http://www.w3.org/2000/svg\" xmlns:xlink=\"http://www.w3.org/1999/xlink\">\n<g id=\"graph0\" class=\"graph\" transform=\"scale(1 1) rotate(0) translate(4 499)\">\n<title>%3</title>\n<polygon fill=\"white\" stroke=\"transparent\" points=\"-4,4 -4,-499 218,-499 218,4 -4,4\"/>\n<!-- 133346625997136 -->\n<g id=\"node1\" class=\"node\">\n<title>133346625997136</title>\n<polygon fill=\"#caff70\" stroke=\"black\" points=\"133.5,-31 79.5,-31 79.5,0 133.5,0 133.5,-31\"/>\n<text text-anchor=\"middle\" x=\"106.5\" y=\"-7\" font-family=\"monospace\" font-size=\"10.00\"> ()</text>\n</g>\n<!-- 133346626290400 -->\n<g id=\"node2\" class=\"node\">\n<title>133346626290400</title>\n<polygon fill=\"lightgrey\" stroke=\"black\" points=\"151,-86 62,-86 62,-67 151,-67 151,-86\"/>\n<text text-anchor=\"middle\" x=\"106.5\" y=\"-74\" font-family=\"monospace\" font-size=\"10.00\">MulBackward0</text>\n</g>\n<!-- 133346626290400&#45;&gt;133346625997136 -->\n<g id=\"edge10\" class=\"edge\">\n<title>133346626290400&#45;&gt;133346625997136</title>\n<path fill=\"none\" stroke=\"black\" d=\"M106.5,-66.79C106.5,-60.07 106.5,-50.4 106.5,-41.34\"/>\n<polygon fill=\"black\" stroke=\"black\" points=\"110,-41.19 106.5,-31.19 103,-41.19 110,-41.19\"/>\n</g>\n<!-- 133346626290016 -->\n<g id=\"node3\" class=\"node\">\n<title>133346626290016</title>\n<polygon fill=\"lightgrey\" stroke=\"black\" points=\"154,-141 59,-141 59,-122 154,-122 154,-141\"/>\n<text text-anchor=\"middle\" x=\"106.5\" y=\"-129\" font-family=\"monospace\" font-size=\"10.00\">MeanBackward0</text>\n</g>\n<!-- 133346626290016&#45;&gt;133346626290400 -->\n<g id=\"edge1\" class=\"edge\">\n<title>133346626290016&#45;&gt;133346626290400</title>\n<path fill=\"none\" stroke=\"black\" d=\"M106.5,-121.75C106.5,-114.8 106.5,-104.85 106.5,-96.13\"/>\n<polygon fill=\"black\" stroke=\"black\" points=\"110,-96.09 106.5,-86.09 103,-96.09 110,-96.09\"/>\n</g>\n<!-- 133346626290256 -->\n<g id=\"node4\" class=\"node\">\n<title>133346626290256</title>\n<polygon fill=\"lightgrey\" stroke=\"black\" points=\"151,-196 62,-196 62,-177 151,-177 151,-196\"/>\n<text text-anchor=\"middle\" x=\"106.5\" y=\"-184\" font-family=\"monospace\" font-size=\"10.00\">PowBackward0</text>\n</g>\n<!-- 133346626290256&#45;&gt;133346626290016 -->\n<g id=\"edge2\" class=\"edge\">\n<title>133346626290256&#45;&gt;133346626290016</title>\n<path fill=\"none\" stroke=\"black\" d=\"M106.5,-176.75C106.5,-169.8 106.5,-159.85 106.5,-151.13\"/>\n<polygon fill=\"black\" stroke=\"black\" points=\"110,-151.09 106.5,-141.09 103,-151.09 110,-151.09\"/>\n</g>\n<!-- 133346626290304 -->\n<g id=\"node5\" class=\"node\">\n<title>133346626290304</title>\n<polygon fill=\"lightgrey\" stroke=\"black\" points=\"151,-251 62,-251 62,-232 151,-232 151,-251\"/>\n<text text-anchor=\"middle\" x=\"106.5\" y=\"-239\" font-family=\"monospace\" font-size=\"10.00\">SubBackward0</text>\n</g>\n<!-- 133346626290304&#45;&gt;133346626290256 -->\n<g id=\"edge3\" class=\"edge\">\n<title>133346626290304&#45;&gt;133346626290256</title>\n<path fill=\"none\" stroke=\"black\" d=\"M106.5,-231.75C106.5,-224.8 106.5,-214.85 106.5,-206.13\"/>\n<polygon fill=\"black\" stroke=\"black\" points=\"110,-206.09 106.5,-196.09 103,-206.09 110,-206.09\"/>\n</g>\n<!-- 133346626292080 -->\n<g id=\"node6\" class=\"node\">\n<title>133346626292080</title>\n<polygon fill=\"lightgrey\" stroke=\"black\" points=\"151,-306 62,-306 62,-287 151,-287 151,-306\"/>\n<text text-anchor=\"middle\" x=\"106.5\" y=\"-294\" font-family=\"monospace\" font-size=\"10.00\">AddBackward0</text>\n</g>\n<!-- 133346626292080&#45;&gt;133346626290304 -->\n<g id=\"edge4\" class=\"edge\">\n<title>133346626292080&#45;&gt;133346626290304</title>\n<path fill=\"none\" stroke=\"black\" d=\"M106.5,-286.75C106.5,-279.8 106.5,-269.85 106.5,-261.13\"/>\n<polygon fill=\"black\" stroke=\"black\" points=\"110,-261.09 106.5,-251.09 103,-261.09 110,-261.09\"/>\n</g>\n<!-- 133346626292176 -->\n<g id=\"node7\" class=\"node\">\n<title>133346626292176</title>\n<polygon fill=\"lightgrey\" stroke=\"black\" points=\"101,-361 0,-361 0,-342 101,-342 101,-361\"/>\n<text text-anchor=\"middle\" x=\"50.5\" y=\"-349\" font-family=\"monospace\" font-size=\"10.00\">AccumulateGrad</text>\n</g>\n<!-- 133346626292176&#45;&gt;133346626292080 -->\n<g id=\"edge5\" class=\"edge\">\n<title>133346626292176&#45;&gt;133346626292080</title>\n<path fill=\"none\" stroke=\"black\" d=\"M59.5,-341.98C67.69,-334.23 80.01,-322.58 89.97,-313.14\"/>\n<polygon fill=\"black\" stroke=\"black\" points=\"92.48,-315.59 97.34,-306.17 87.67,-310.5 92.48,-315.59\"/>\n</g>\n<!-- 133346625844336 -->\n<g id=\"node8\" class=\"node\">\n<title>133346625844336</title>\n<polygon fill=\"lightblue\" stroke=\"black\" points=\"77.5,-428 23.5,-428 23.5,-397 77.5,-397 77.5,-428\"/>\n<text text-anchor=\"middle\" x=\"50.5\" y=\"-404\" font-family=\"monospace\" font-size=\"10.00\"> (1)</text>\n</g>\n<!-- 133346625844336&#45;&gt;133346626292176 -->\n<g id=\"edge6\" class=\"edge\">\n<title>133346625844336&#45;&gt;133346626292176</title>\n<path fill=\"none\" stroke=\"black\" d=\"M50.5,-396.92C50.5,-389.22 50.5,-379.69 50.5,-371.43\"/>\n<polygon fill=\"black\" stroke=\"black\" points=\"54,-371.25 50.5,-361.25 47,-371.25 54,-371.25\"/>\n</g>\n<!-- 133346626292128 -->\n<g id=\"node9\" class=\"node\">\n<title>133346626292128</title>\n<polygon fill=\"lightgrey\" stroke=\"black\" points=\"208,-361 119,-361 119,-342 208,-342 208,-361\"/>\n<text text-anchor=\"middle\" x=\"163.5\" y=\"-349\" font-family=\"monospace\" font-size=\"10.00\">MulBackward0</text>\n</g>\n<!-- 133346626292128&#45;&gt;133346626292080 -->\n<g id=\"edge7\" class=\"edge\">\n<title>133346626292128&#45;&gt;133346626292080</title>\n<path fill=\"none\" stroke=\"black\" d=\"M154.34,-341.98C146,-334.23 133.47,-322.58 123.32,-313.14\"/>\n<polygon fill=\"black\" stroke=\"black\" points=\"125.53,-310.42 115.82,-306.17 120.76,-315.54 125.53,-310.42\"/>\n</g>\n<!-- 133346626292224 -->\n<g id=\"node10\" class=\"node\">\n<title>133346626292224</title>\n<polygon fill=\"lightgrey\" stroke=\"black\" points=\"214,-422 113,-422 113,-403 214,-403 214,-422\"/>\n<text text-anchor=\"middle\" x=\"163.5\" y=\"-410\" font-family=\"monospace\" font-size=\"10.00\">AccumulateGrad</text>\n</g>\n<!-- 133346626292224&#45;&gt;133346626292128 -->\n<g id=\"edge8\" class=\"edge\">\n<title>133346626292224&#45;&gt;133346626292128</title>\n<path fill=\"none\" stroke=\"black\" d=\"M163.5,-402.79C163.5,-394.6 163.5,-382.06 163.5,-371.55\"/>\n<polygon fill=\"black\" stroke=\"black\" points=\"167,-371.24 163.5,-361.24 160,-371.24 167,-371.24\"/>\n</g>\n<!-- 133346625846976 -->\n<g id=\"node11\" class=\"node\">\n<title>133346625846976</title>\n<polygon fill=\"lightblue\" stroke=\"black\" points=\"190.5,-495 136.5,-495 136.5,-464 190.5,-464 190.5,-495\"/>\n<text text-anchor=\"middle\" x=\"163.5\" y=\"-471\" font-family=\"monospace\" font-size=\"10.00\"> (1)</text>\n</g>\n<!-- 133346625846976&#45;&gt;133346626292224 -->\n<g id=\"edge9\" class=\"edge\">\n<title>133346625846976&#45;&gt;133346626292224</title>\n<path fill=\"none\" stroke=\"black\" d=\"M163.5,-463.75C163.5,-454.39 163.5,-442.19 163.5,-432.16\"/>\n<polygon fill=\"black\" stroke=\"black\" points=\"167,-432.02 163.5,-422.02 160,-432.02 167,-432.02\"/>\n</g>\n</g>\n</svg>\n",
            "text/plain": [
              "<graphviz.graphs.Digraph at 0x79472e4ac2b0>"
            ]
          },
          "metadata": {},
          "execution_count": 14
        }
      ]
    },
    {
      "cell_type": "markdown",
      "source": [
        "Mwmory required for deep learning:\n",
        "\n",
        "# Train:\n",
        "Parameters: 500M f32-> 2G Gradian: 500M f32 -> 2G Model process: 2G optimizer step: 3G 9G for train\n",
        "\n",
        "Valid: Parameters: 500M f32-> 2G Model process: 2G 4 G for validatrion"
      ],
      "metadata": {
        "id": "5yM7cICu0osE"
      }
    },
    {
      "cell_type": "code",
      "source": [
        "loss.detach().cpu().item()"
      ],
      "metadata": {
        "colab": {
          "base_uri": "https://localhost:8080/"
        },
        "id": "BQaEm8nE0toB",
        "outputId": "3e724c4d-8fd9-4458-c93f-e7ce7974f2c0"
      },
      "execution_count": 15,
      "outputs": [
        {
          "output_type": "execute_result",
          "data": {
            "text/plain": [
              "1.8242034912109375"
            ]
          },
          "metadata": {},
          "execution_count": 15
        }
      ]
    },
    {
      "cell_type": "code",
      "source": [
        "losses.append(loss)"
      ],
      "metadata": {
        "id": "lvWgP34j1wE3"
      },
      "execution_count": 16,
      "outputs": []
    },
    {
      "cell_type": "code",
      "source": [
        "losses"
      ],
      "metadata": {
        "colab": {
          "base_uri": "https://localhost:8080/"
        },
        "id": "M8ufavb11506",
        "outputId": "445f7aaf-5f9d-4020-934e-00e99749eaf5"
      },
      "execution_count": 17,
      "outputs": [
        {
          "output_type": "execute_result",
          "data": {
            "text/plain": [
              "[tensor(1.8242, device='cuda:0', grad_fn=<MulBackward0>)]"
            ]
          },
          "metadata": {},
          "execution_count": 17
        }
      ]
    },
    {
      "cell_type": "code",
      "source": [
        "from torch import optim"
      ],
      "metadata": {
        "id": "qj61yPUo19uJ"
      },
      "execution_count": 18,
      "outputs": []
    },
    {
      "cell_type": "code",
      "source": [
        "torch.manual_seed(42)\n",
        "b = torch.randn(1,requires_grad=True,device = device)\n",
        "w = torch.randn(1,requires_grad=True,device = device)\n",
        "\n",
        "lr = .5\n",
        "optimizer = optim.SGD([b,w], lr = lr)\n",
        "losses = []\n",
        "epoch = 50\n",
        "\n",
        "for _ in range (epoch):\n",
        "  y_pred = b + w * x_tensor\n",
        "  error = y_pred - y_tensor\n",
        "  loss = .5*(error ** 2).mean()\n",
        "  loss.backward()\n",
        "  optimizer.step()\n",
        "  optimizer.zero_grad()\n",
        "  losses.append(loss.detach().cpu().item())\n",
        "\n",
        "w,b"
      ],
      "metadata": {
        "colab": {
          "base_uri": "https://localhost:8080/"
        },
        "id": "sWgYbdl-2Per",
        "outputId": "30ae01c3-867a-4561-93d0-4e9b90f316b7"
      },
      "execution_count": 19,
      "outputs": [
        {
          "output_type": "execute_result",
          "data": {
            "text/plain": [
              "(tensor([2.0202], device='cuda:0', requires_grad=True),\n",
              " tensor([1.0180], device='cuda:0', requires_grad=True))"
            ]
          },
          "metadata": {},
          "execution_count": 19
        }
      ]
    },
    {
      "cell_type": "code",
      "source": [
        "import matplotlib.pyplot as plt\n",
        "plt.plot(range(epoch),losses)\n",
        "plt.show()"
      ],
      "metadata": {
        "colab": {
          "base_uri": "https://localhost:8080/",
          "height": 430
        },
        "id": "5ZYGFSue3OrA",
        "outputId": "9909d3c4-1e82-4af1-955f-7f0b4444a28b"
      },
      "execution_count": 20,
      "outputs": [
        {
          "output_type": "display_data",
          "data": {
            "text/plain": [
              "<Figure size 640x480 with 1 Axes>"
            ],
            "image/png": "[encoded data removed]"
          },
          "metadata": {}
        }
      ]
    },
    {
      "cell_type": "code",
      "source": [
        "import torch.nn as nn"
      ],
      "metadata": {
        "id": "WyXQowmO6LgX"
      },
      "execution_count": 21,
      "outputs": []
    },
    {
      "cell_type": "code",
      "source": [
        "loss_fn = nn.MSELoss()"
      ],
      "metadata": {
        "id": "1W0TeyDF8gNd"
      },
      "execution_count": 22,
      "outputs": []
    },
    {
      "cell_type": "code",
      "source": [
        "torch.manual_seed(42)\n",
        "b = torch.randn(1,requires_grad=True,device = device, dtype = torch.float16)\n",
        "w = torch.randn(1,requires_grad=True,device = device, dtype = torch.float16)\n",
        "\n",
        "\n",
        "loss_fn = nn.MSELoss()\n",
        "lr = .5\n",
        "optimizer = optim.SGD([b,w],lr = lr)\n",
        "losses = []\n",
        "epoch = 50\n",
        "\n",
        "\n",
        "for _ in range(epoch):\n",
        "  y_pred = b + w * x_tensor\n",
        "  loss = loss_fn(y_pred, y_tensor)\n",
        "  loss.backward()\n",
        "  optimizer.step()\n",
        "  optimizer.zero_grad()\n",
        "  losses.append(loss.detach().cpu().item())\n",
        "\n",
        "w,b"
      ],
      "metadata": {
        "colab": {
          "base_uri": "https://localhost:8080/"
        },
        "id": "MPZRbIJzSg7T",
        "outputId": "3f32b6fd-5172-4653-ea2e-02993e9abadc"
      },
      "execution_count": 23,
      "outputs": [
        {
          "output_type": "execute_result",
          "data": {
            "text/plain": [
              "(tensor([2.0195], device='cuda:0', dtype=torch.float16, requires_grad=True),\n",
              " tensor([1.0176], device='cuda:0', dtype=torch.float16, requires_grad=True))"
            ]
          },
          "metadata": {},
          "execution_count": 23
        }
      ]
    },
    {
      "cell_type": "code",
      "source": [
        "class ManualRegression(nn.Module):\n",
        "  def __init__(self):\n",
        "    super().__init__()\n",
        "    self.b = nn.Parameter(torch.randn(1,requires_grad = True , dtype = torch.float16))\n",
        "    self.w = nn.Parameter(torch.randn(1,requires_grad = True, dtype = torch.float16))\n",
        "\n",
        "  def forward(self,x):\n",
        "    return self.b + self.w * x"
      ],
      "metadata": {
        "id": "i-iDzyKVUEF3"
      },
      "execution_count": 24,
      "outputs": []
    },
    {
      "cell_type": "code",
      "source": [
        "torch.manual_seed(42)\n",
        "model = ManualRegression().to(device)"
      ],
      "metadata": {
        "id": "5XqYyJUfXhzh"
      },
      "execution_count": 25,
      "outputs": []
    },
    {
      "cell_type": "code",
      "source": [
        "list(model.parameters())"
      ],
      "metadata": {
        "colab": {
          "base_uri": "https://localhost:8080/"
        },
        "id": "rjrQrv--XziY",
        "outputId": "3192ffe9-4556-4591-e2cf-949faad71f9d"
      },
      "execution_count": 26,
      "outputs": [
        {
          "output_type": "execute_result",
          "data": {
            "text/plain": [
              "[Parameter containing:\n",
              " tensor([0.3367], device='cuda:0', dtype=torch.float16, requires_grad=True),\n",
              " Parameter containing:\n",
              " tensor([0.1288], device='cuda:0', dtype=torch.float16, requires_grad=True)]"
            ]
          },
          "metadata": {},
          "execution_count": 26
        }
      ]
    },
    {
      "cell_type": "code",
      "source": [
        "model.state_dict()"
      ],
      "metadata": {
        "colab": {
          "base_uri": "https://localhost:8080/"
        },
        "id": "CVAu67p7X6hB",
        "outputId": "f87f0140-1cb0-48b8-e37f-a83d7201bf80"
      },
      "execution_count": 27,
      "outputs": [
        {
          "output_type": "execute_result",
          "data": {
            "text/plain": [
              "OrderedDict([('b', tensor([0.3367], device='cuda:0', dtype=torch.float16)),\n",
              "             ('w', tensor([0.1288], device='cuda:0', dtype=torch.float16))])"
            ]
          },
          "metadata": {},
          "execution_count": 27
        }
      ]
    },
    {
      "cell_type": "code",
      "source": [
        "loss_fn = nn.MSELoss()\n",
        "lr = .5\n",
        "optimizer = optim.SGD([b,w],lr = lr)\n",
        "losses = []\n",
        "epoch = 50\n",
        "\n",
        "\n",
        "for _ in range(epoch):\n",
        "  model.train()\n",
        "  y_pred = model(x_tensor)\n",
        "  loss = loss_fn(y_pred, y_tensor)\n",
        "  loss.backward()\n",
        "  optimizer.step()\n",
        "  optimizer.zero_grad()\n",
        "  losses.append(loss.detach().cpu().item())"
      ],
      "metadata": {
        "id": "ZrkPY9XfYMym"
      },
      "execution_count": 28,
      "outputs": []
    },
    {
      "cell_type": "code",
      "source": [
        "class ManualRegression(nn.Module):\n",
        "  def __init__(self):\n",
        "    super().__init__()\n",
        "    self.layer= nn.Linear(in_features = 1 , out_features = 1 , bias = True)\n",
        "\n",
        "  def forward(self,x):\n",
        "    return self.layer(x)"
      ],
      "metadata": {
        "id": "NlTv15gKZeY-"
      },
      "execution_count": 29,
      "outputs": []
    },
    {
      "cell_type": "code",
      "source": [
        "model = ManualRegression().to(device)\n",
        "list(model.parameters())"
      ],
      "metadata": {
        "colab": {
          "base_uri": "https://localhost:8080/"
        },
        "id": "TCnvPc91ashY",
        "outputId": "64ff8c58-ba38-46d3-9a6e-f1f22a0826d4"
      },
      "execution_count": 30,
      "outputs": [
        {
          "output_type": "execute_result",
          "data": {
            "text/plain": [
              "[Parameter containing:\n",
              " tensor([[-0.2191]], device='cuda:0', requires_grad=True),\n",
              " Parameter containing:\n",
              " tensor([0.2018], device='cuda:0', requires_grad=True)]"
            ]
          },
          "metadata": {},
          "execution_count": 30
        }
      ]
    },
    {
      "cell_type": "code",
      "source": [
        "loss_fn = nn.MSELoss()\n",
        "lr = .5\n",
        "optimizer = optim.SGD(model.parameters(),lr = lr)\n",
        "losses = []\n",
        "epoch = 50\n",
        "\n",
        "\n",
        "for _ in range(epoch):\n",
        "  model.train()\n",
        "  y_pred = model(x_tensor)\n",
        "  loss = loss_fn(y_pred, y_tensor)\n",
        "  loss.backward()\n",
        "  optimizer.step()\n",
        "  optimizer.zero_grad()\n",
        "  losses.append(loss.detach().cpu().item())"
      ],
      "metadata": {
        "id": "vpJtr47sa-qe"
      },
      "execution_count": 31,
      "outputs": []
    },
    {
      "cell_type": "code",
      "source": [
        "model.eval()\n",
        "y_pred = model(x_tensor)\n",
        "loss = loss_fn(y_pred, y_tensor)\n"
      ],
      "metadata": {
        "id": "k81xuCRKbIM9"
      },
      "execution_count": 32,
      "outputs": []
    },
    {
      "cell_type": "code",
      "source": [
        "loss.detach().cpu().item()"
      ],
      "metadata": {
        "colab": {
          "base_uri": "https://localhost:8080/"
        },
        "id": "AKDdIFvtfOdD",
        "outputId": "aa96a9d7-cbcb-4092-8ec8-9f030a370327"
      },
      "execution_count": 33,
      "outputs": [
        {
          "output_type": "execute_result",
          "data": {
            "text/plain": [
              "0.038421228528022766"
            ]
          },
          "metadata": {},
          "execution_count": 33
        }
      ]
    }
  ]
}